{
  "nbformat": 4,
  "nbformat_minor": 0,
  "metadata": {
    "colab": {
      "provenance": [],
      "authorship_tag": "ABX9TyO6DZ6vhPu6UdWkSXzoZ9lJ",
      "include_colab_link": true
    },
    "kernelspec": {
      "name": "python3",
      "display_name": "Python 3"
    },
    "language_info": {
      "name": "python"
    }
  },
  "cells": [
    {
      "cell_type": "markdown",
      "metadata": {
        "id": "view-in-github",
        "colab_type": "text"
      },
      "source": [
        "<a href=\"https://colab.research.google.com/github/liviya7678/Integrating-ML-with-classical-docking/blob/main/Molecular_docking_using_ML.ipynb\" target=\"_parent\"><img src=\"https://colab.research.google.com/assets/colab-badge.svg\" alt=\"Open In Colab\"/></a>"
      ]
    },
    {
      "cell_type": "markdown",
      "source": [
        "Molecular docking of HER2 breast cancer receptor and Tucatinib ligand\n"
      ],
      "metadata": {
        "id": "5jqiCkHgEH5t"
      }
    },
    {
      "cell_type": "code",
      "source": [
        "\n",
        "from google.colab import drive\n",
        "drive.mount('/content/drive')"
      ],
      "metadata": {
        "colab": {
          "base_uri": "https://localhost:8080/"
        },
        "id": "f1XUI1bvEh7u",
        "outputId": "5d3e38b2-982a-4ff0-a025-bbc1fe5a6214"
      },
      "execution_count": 2,
      "outputs": [
        {
          "output_type": "stream",
          "name": "stdout",
          "text": [
            "Mounted at /content/drive\n"
          ]
        }
      ]
    },
    {
      "cell_type": "code",
      "source": [
        "!ls /content\n"
      ],
      "metadata": {
        "colab": {
          "base_uri": "https://localhost:8080/"
        },
        "id": "KfTa5XKSFkh2",
        "outputId": "1f8c157e-10bd-46a9-bd14-d0ef6fc41fa9"
      },
      "execution_count": 3,
      "outputs": [
        {
          "output_type": "stream",
          "name": "stdout",
          "text": [
            "drive  HER2_receptor_clean.pdb\tsample_data  TUC_ligand.pdbqt\n"
          ]
        }
      ]
    },
    {
      "cell_type": "code",
      "source": [
        "# System packages\n",
        "!apt-get update -qq\n",
        "!apt-get install -y -qq openbabel\n",
        "!apt-get install -y -qq autodock-vina\n",
        "\n"
      ],
      "metadata": {
        "colab": {
          "base_uri": "https://localhost:8080/"
        },
        "id": "5Gp5r783JIQC",
        "outputId": "b79253d3-84ae-4f99-a04a-802bf67c517d"
      },
      "execution_count": 5,
      "outputs": [
        {
          "output_type": "stream",
          "name": "stdout",
          "text": [
            "W: Skipping acquire of configured file 'main/source/Sources' as repository 'https://r2u.stat.illinois.edu/ubuntu jammy InRelease' does not seem to provide it (sources.list entry misspelt?)\n"
          ]
        }
      ]
    },
    {
      "cell_type": "code",
      "source": [
        "!wget -q https://repo.anaconda.com/miniconda/Miniconda3-latest-Linux-x86_64.sh -O miniconda.sh\n",
        "!bash miniconda.sh -b -p /usr/local/miniconda\n",
        "\n"
      ],
      "metadata": {
        "colab": {
          "base_uri": "https://localhost:8080/"
        },
        "id": "qsELAhbuItZB",
        "outputId": "7f6144c6-9731-405e-e3d5-9355bbba234e"
      },
      "execution_count": 10,
      "outputs": [
        {
          "output_type": "stream",
          "name": "stdout",
          "text": [
            "PREFIX=/usr/local/miniconda\n",
            "Unpacking bootstrapper...\n",
            "Unpacking payload...\n",
            "\n",
            "Installing base environment...\n",
            "\n",
            "Preparing transaction: ...working... done\n",
            "Executing transaction: ...working... done\n",
            "installation finished.\n",
            "WARNING:\n",
            "    You currently have a PYTHONPATH environment variable set. This may cause\n",
            "    unexpected behavior when running the Python interpreter in Miniconda3.\n",
            "    For best results, please verify that your PYTHONPATH only points to\n",
            "    directories of packages that are compatible with the Python interpreter\n",
            "    in Miniconda3: /usr/local/miniconda\n"
          ]
        }
      ]
    },
    {
      "cell_type": "code",
      "source": [
        "!eval \"$(/usr/local/miniconda/bin/conda shell.bash hook)\" && conda install -c conda-forge pdbfixer -y\n"
      ],
      "metadata": {
        "colab": {
          "base_uri": "https://localhost:8080/"
        },
        "id": "6skCSt5yMMsJ",
        "outputId": "c34169b0-a33a-40bc-976c-5b02a3634952"
      },
      "execution_count": 11,
      "outputs": [
        {
          "output_type": "stream",
          "name": "stdout",
          "text": [
            "\u001b[1;33mJupyter detected\u001b[0m\u001b[1;33m...\u001b[0m\n",
            "\n",
            "CondaToSNonInteractiveError: Terms of Service have not been accepted for the following channels. Please accept or remove them before proceeding:\n",
            "    - https://repo.anaconda.com/pkgs/main\n",
            "    - https://repo.anaconda.com/pkgs/r\n",
            "\n",
            "To accept these channels' Terms of Service, run the following commands:\n",
            "    conda tos accept --override-channels --channel https://repo.anaconda.com/pkgs/main\n",
            "    conda tos accept --override-channels --channel https://repo.anaconda.com/pkgs/r\n",
            "\n",
            "For information on safely removing channels from your conda configuration,\n",
            "please see the official documentation:\n",
            "\n",
            "    https://www.anaconda.com/docs/tools/working-with-conda/channels\n",
            "\n"
          ]
        }
      ]
    },
    {
      "cell_type": "code",
      "source": [
        "!pip install git+https://github.com/openmm/pdbfixer.git\n",
        "\n"
      ],
      "metadata": {
        "colab": {
          "base_uri": "https://localhost:8080/"
        },
        "id": "T1BELKo7MWKl",
        "outputId": "0275bd2a-e44e-4582-d607-80207bdc23a9"
      },
      "execution_count": 13,
      "outputs": [
        {
          "output_type": "stream",
          "name": "stdout",
          "text": [
            "Collecting git+https://github.com/openmm/pdbfixer.git\n",
            "  Cloning https://github.com/openmm/pdbfixer.git to /tmp/pip-req-build-fw6e3e_l\n",
            "  Running command git clone --filter=blob:none --quiet https://github.com/openmm/pdbfixer.git /tmp/pip-req-build-fw6e3e_l\n",
            "  Resolved https://github.com/openmm/pdbfixer.git to commit 0f701349b1d0b7c91d2ca0db78359274d0793400\n",
            "  Preparing metadata (setup.py) ... \u001b[?25l\u001b[?25hdone\n",
            "Requirement already satisfied: numpy in /usr/local/lib/python3.12/dist-packages (from pdbfixer==1.11.0) (2.0.2)\n",
            "Collecting openmm>=8.2 (from pdbfixer==1.11.0)\n",
            "  Downloading openmm-8.3.1-cp312-cp312-manylinux_2_27_x86_64.manylinux_2_28_x86_64.whl.metadata (1.0 kB)\n",
            "Downloading openmm-8.3.1-cp312-cp312-manylinux_2_27_x86_64.manylinux_2_28_x86_64.whl (14.0 MB)\n",
            "\u001b[2K   \u001b[90m━━━━━━━━━━━━━━━━━━━━━━━━━━━━━━━━━━━━━━━━\u001b[0m \u001b[32m14.0/14.0 MB\u001b[0m \u001b[31m54.5 MB/s\u001b[0m eta \u001b[36m0:00:00\u001b[0m\n",
            "\u001b[?25hBuilding wheels for collected packages: pdbfixer\n",
            "  Building wheel for pdbfixer (setup.py) ... \u001b[?25l\u001b[?25hdone\n",
            "  Created wheel for pdbfixer: filename=pdbfixer-1.11.0-py3-none-any.whl size=681683 sha256=801613cf4f8589684c3a70dc233edb3816d7cb553d82a610fb2833a1dab1f371\n",
            "  Stored in directory: /tmp/pip-ephem-wheel-cache-4q5yinfc/wheels/0b/90/9a/de8a860c8290c72a309b03127bbfdf72a3f9a09a7b7faf8882\n",
            "Successfully built pdbfixer\n",
            "Installing collected packages: openmm, pdbfixer\n",
            "Successfully installed openmm-8.3.1 pdbfixer-1.11.0\n"
          ]
        }
      ]
    },
    {
      "cell_type": "code",
      "source": [
        "import pdbfixer\n",
        "print(\" PDBFixer installed successfully!\")\n"
      ],
      "metadata": {
        "colab": {
          "base_uri": "https://localhost:8080/"
        },
        "id": "SsXi9ue-UEDU",
        "outputId": "2cbd959e-5a1b-4ce2-c9c2-d06456d04c9b"
      },
      "execution_count": 14,
      "outputs": [
        {
          "output_type": "stream",
          "name": "stdout",
          "text": [
            " PDBFixer installed successfully!\n"
          ]
        }
      ]
    },
    {
      "cell_type": "markdown",
      "source": [
        "Receptor pre docking preparation steps"
      ],
      "metadata": {
        "id": "5wwpg7rZUSkS"
      }
    },
    {
      "cell_type": "code",
      "source": [
        "# Load Receptor\n",
        "fixer = PDBFixer ( filename = \"/content/HER2_receptor_clean.pdb\")\n",
        "\n",
        "# 1. Repair missing atoms\n",
        "fixer.findMissingResidues()\n",
        "fixer.findMissingAtoms()\n",
        "fixer.addMissingAtoms()\n",
        "\n",
        "# 2.Add polar hydrogens\n",
        "\n",
        "fixer.addMissingHydrogens(pH=7.4)\n",
        "\n",
        "# 3. Save repaired receptor\n",
        "PDBFile.writeFile(fixer.topology, fixer.positions, open('HER2_receptor_fixed.pdb', 'w'))\n",
        "\n",
        "\n",
        "\n",
        "\n"
      ],
      "metadata": {
        "id": "LZSG8O-EUgy1"
      },
      "execution_count": 42,
      "outputs": []
    },
    {
      "cell_type": "code",
      "source": [
        "# clean the pdb receptor file\n",
        "\n",
        "input_path = \"/content/HER2_receptor_fixed.pdb\"\n",
        "output_path = \"/content/HER2_receptor_clean_for_pdbqt.pdb\"\n",
        "\n",
        "# Keep only relevant PDB lines: ATOM, HETATM, TER, END\n",
        "with open(input_path, \"r\") as fin, open(output_path, \"w\") as fout:\n",
        "    for line in fin:\n",
        "        if line.startswith((\"ATOM\", \"HETATM\", \"TER\", \"END\")):\n",
        "            fout.write(line)\n",
        "\n",
        "print(\" Cleaned receptor written to:\", output_path)\n",
        "\n",
        "# Check first few lines to confirm\n",
        "!head -20 /content/HER2_receptor_clean_for_pdbqt.pdb\n",
        "!ls -lh /content/HER2_receptor_clean_for_pdbqt.pdb\n",
        "\n",
        "\n"
      ],
      "metadata": {
        "colab": {
          "base_uri": "https://localhost:8080/"
        },
        "id": "bpD6DNanjkq0",
        "outputId": "e6c92ef5-11a5-4b2d-d1d0-35578f9dcac9"
      },
      "execution_count": 43,
      "outputs": [
        {
          "output_type": "stream",
          "name": "stdout",
          "text": [
            " Cleaned receptor written to: /content/HER2_receptor_clean_for_pdbqt.pdb\n",
            "ATOM      1  N   ALA A   1     -15.684  18.524 -34.525  1.00  0.00           N  \n",
            "ATOM      2  H   ALA A   1     -14.485  18.573 -34.468  1.00  0.00           H  \n",
            "ATOM      3  H2  ALA A   1     -15.929  19.647 -34.175  1.00  0.00           H  \n",
            "ATOM      4  H3  ALA A   1     -15.892  18.558 -35.712  1.00  0.00           H  \n",
            "ATOM      5  CA  ALA A   1     -16.360  17.398 -33.805  1.00  0.00           C  \n",
            "ATOM      6  HA  ALA A   1     -16.498  17.732 -32.666  1.00  0.00           H  \n",
            "ATOM      7  C   ALA A   1     -15.700  16.074 -34.185  1.00  0.00           C  \n",
            "ATOM      8  O   ALA A   1     -15.766  15.667 -35.344  1.00  0.00           O  \n",
            "ATOM      9  CB  ALA A   1     -17.834  17.383 -34.128  1.00  0.00           C  \n",
            "ATOM     10  HB1 ALA A   1     -18.141  17.134 -35.265  1.00  0.00           H  \n",
            "ATOM     11  HB2 ALA A   1     -18.517  18.345 -33.907  1.00  0.00           H  \n",
            "ATOM     12  HB3 ALA A   1     -18.444  16.553 -33.505  1.00  0.00           H  \n",
            "ATOM     13  N   PRO A   2     -15.039  15.367 -33.237  1.00  0.00           N  \n",
            "ATOM     14  CA  PRO A   2     -14.457  14.055 -33.523  1.00  0.00           C  \n",
            "ATOM     15  HA  PRO A   2     -13.633  14.303 -34.350  1.00  0.00           H  \n",
            "ATOM     16  C   PRO A   2     -15.514  13.051 -34.010  1.00  0.00           C  \n",
            "ATOM     17  O   PRO A   2     -16.619  13.068 -33.496  1.00  0.00           O  \n",
            "ATOM     18  CB  PRO A   2     -13.866  13.593 -32.181  1.00  0.00           C  \n",
            "ATOM     19  HB2 PRO A   2     -14.500  12.781 -31.569  1.00  0.00           H  \n",
            "ATOM     20  HB3 PRO A   2     -12.835  13.011 -32.362  1.00  0.00           H  \n",
            "-rw-r--r-- 1 root root 370K Oct 27 07:46 /content/HER2_receptor_clean_for_pdbqt.pdb\n"
          ]
        }
      ]
    },
    {
      "cell_type": "code",
      "source": [
        "!wget -q https://repo.anaconda.com/miniconda/Miniconda3-latest-Linux-x86_64.sh\n",
        "!bash Miniconda3-latest-Linux-x86_64.sh -b -f -p /usr/local\n"
      ],
      "metadata": {
        "colab": {
          "base_uri": "https://localhost:8080/"
        },
        "collapsed": true,
        "id": "PAVfbo2DqhnS",
        "outputId": "c0f95e84-834a-486c-b75c-14904dfc619e"
      },
      "execution_count": 52,
      "outputs": [
        {
          "output_type": "stream",
          "name": "stdout",
          "text": [
            "PREFIX=/usr/local\n",
            "Unpacking bootstrapper...\n",
            "Unpacking payload...\n",
            "\n",
            "Installing base environment...\n",
            "\n",
            "Preparing transaction: ...working... done\n",
            "Executing transaction: ...working... done\n",
            "installation finished.\n",
            "WARNING:\n",
            "    You currently have a PYTHONPATH environment variable set. This may cause\n",
            "    unexpected behavior when running the Python interpreter in Miniconda3.\n",
            "    For best results, please verify that your PYTHONPATH only points to\n",
            "    directories of packages that are compatible with the Python interpreter\n",
            "    in Miniconda3: /usr/local\n"
          ]
        }
      ]
    },
    {
      "cell_type": "code",
      "source": [
        "# Add conda to PATH\n",
        "import sys, os\n",
        "os.environ['PATH'] = '/usr/local/bin:' + os.environ['PATH']\n",
        "\n",
        "# Install RDKit from conda-forge\n",
        "!conda install -c conda-forge rdkit -y\n"
      ],
      "metadata": {
        "colab": {
          "base_uri": "https://localhost:8080/"
        },
        "collapsed": true,
        "id": "67tolaPXsTap",
        "outputId": "4154ecbd-3ea2-43c8-f2f9-3955ddc31178"
      },
      "execution_count": 53,
      "outputs": [
        {
          "output_type": "stream",
          "name": "stdout",
          "text": [
            "\u001b[1;33mJupyter detected\u001b[0m\u001b[1;33m...\u001b[0m\n",
            "\n",
            "CondaToSNonInteractiveError: Terms of Service have not been accepted for the following channels. Please accept or remove them before proceeding:\n",
            "    - https://repo.anaconda.com/pkgs/main\n",
            "    - https://repo.anaconda.com/pkgs/r\n",
            "\n",
            "To accept these channels' Terms of Service, run the following commands:\n",
            "    conda tos accept --override-channels --channel https://repo.anaconda.com/pkgs/main\n",
            "    conda tos accept --override-channels --channel https://repo.anaconda.com/pkgs/r\n",
            "\n",
            "For information on safely removing channels from your conda configuration,\n",
            "please see the official documentation:\n",
            "\n",
            "    https://www.anaconda.com/docs/tools/working-with-conda/channels\n",
            "\n"
          ]
        }
      ]
    },
    {
      "cell_type": "markdown",
      "source": [
        "Add gasteiger charges and covert receptor to pdbqt"
      ],
      "metadata": {
        "id": "6_DTA2k1tNsn"
      }
    },
    {
      "cell_type": "code",
      "source": [
        "from rdkit import Chem\n",
        "from rdkit.Chem import AllChem\n",
        "\n",
        "# Load receptor\n",
        "receptor = Chem.MolFromPDBFile(\"/content/HER2_receptor_clean_for_pdbqt.pdb\", removeHs=False)\n",
        "\n",
        "# Compute gasteiger charges\n",
        "AllChem.ComputeGasteigerCharges(receptor)\n",
        "\n",
        "# Write to PDBQT-like format (for Vina)\n",
        "with open(\"/content/HER2_receptor_rigid.pdbqt\", \"w\") as f:\n",
        "   f.write(\"REMARK  Gasteiger charges added by RDKit\\n\")\n",
        "   conf = receptor.GetConformer()\n",
        "   for atom in receptor.GetAtoms():\n",
        "     pos = conf.GetAtomPosition(atom.GetIdx())\n",
        "     charge = atom.GetProp('_GasteigerCharge')\n",
        "     f.write(f\"ATOM  {atom.GetIdx()+1:>5}  {atom.GetSymbol():<2}  MOL A{atom.GetIdx()+1:>4}    \"\n",
        "                f\"{pos.x:8.3f}{pos.y:8.3f}{pos.z:8.3f}  1.00  0.00           {atom.GetSymbol():>2}  \"\n",
        "                f\"charge={float(charge):.4f}\\n\")\n",
        "     f.write(\"END\\n\")\n",
        "\n",
        "print(\" HER2 receptor with Gasteiger charges saved as → /content/HER2_receptor_rigid.pdbqt\")"
      ],
      "metadata": {
        "colab": {
          "base_uri": "https://localhost:8080/"
        },
        "id": "6CP_axf_sTeF",
        "outputId": "8b082970-fa17-41e3-c824-9582e9d914e6"
      },
      "execution_count": 60,
      "outputs": [
        {
          "output_type": "stream",
          "name": "stdout",
          "text": [
            " HER2 receptor with Gasteiger charges saved as → /content/HER2_receptor_rigid.pdbqt\n"
          ]
        }
      ]
    },
    {
      "cell_type": "markdown",
      "source": [
        "Ligand preparation pre docking"
      ],
      "metadata": {
        "id": "puD0P_i0aPLq"
      }
    },
    {
      "cell_type": "code",
      "source": [
        "#  Prepare the ligand\n",
        "!obabel /content/TUC_ligand.pdbqt -O /content/TUC_ligand_prepared.pdbqt --gen3d --partialcharge gasteiger\n",
        "\n",
        "#  Verify the output file\n",
        "!ls -l /content/TUC_ligand_prepared.pdbqt"
      ],
      "metadata": {
        "colab": {
          "base_uri": "https://localhost:8080/"
        },
        "id": "j150YrZDaTSX",
        "outputId": "872147e6-ac9c-45b3-c127-323f41f8bfbb"
      },
      "execution_count": 23,
      "outputs": [
        {
          "output_type": "stream",
          "name": "stdout",
          "text": [
            "==============================\n",
            "*** Open Babel Warning  in PerceiveBondOrders\n",
            "  Failed to kekulize aromatic bonds in OBMol::PerceiveBondOrders (title is /content/TUC_ligand.pdbqt)\n",
            "\n",
            "1 molecule converted\n",
            "-rw-r--r-- 1 root root 4234 Oct 27 06:51 /content/TUC_ligand_prepared.pdbqt\n"
          ]
        }
      ]
    },
    {
      "cell_type": "markdown",
      "source": [
        "Grid box parameters\n"
      ],
      "metadata": {
        "id": "AYfvvy7PeycS"
      }
    },
    {
      "cell_type": "code",
      "source": [
        "# Define your known grid box parameters\n",
        "center_x = -0.5\n",
        "center_y = 7\n",
        "center_z = -17\n",
        "\n",
        "size_x = 60\n",
        "size_y = 60\n",
        "size_z = 60\n",
        "\n",
        "print(\" GRID BOX PARAMETERS \")\n",
        "print(f\"Center (x, y, z): {center_x}, {center_y}, {center_z}\")\n",
        "print(f\"Box Size (x, y, z): {size_x}, {size_y}, {size_z}\")"
      ],
      "metadata": {
        "colab": {
          "base_uri": "https://localhost:8080/"
        },
        "id": "yOMAVU-Ge2r1",
        "outputId": "a55d7999-3a00-4422-9d1d-571e8a32fc98"
      },
      "execution_count": 62,
      "outputs": [
        {
          "output_type": "stream",
          "name": "stdout",
          "text": [
            " GRID BOX PARAMETERS \n",
            "Center (x, y, z): -0.5, 7, -17\n",
            "Box Size (x, y, z): 60, 60, 60\n"
          ]
        }
      ]
    },
    {
      "cell_type": "code",
      "source": [
        "#Convert C,S,O,N,H,P autodock vina compatible formats\n",
        "\n",
        "import re\n",
        "\n",
        "in_path  = \"/content/HER2_receptor_rigid.pdbqt\"       #\n",
        "out_path = \"/content/HER2_receptor_vina_ready.pdbqt\"\n",
        "\n",
        "def safe_float(s, default=0.0):\n",
        "    try:\n",
        "        return float(s)\n",
        "    except:\n",
        "        return default\n",
        "\n",
        "\n",
        "map_types = {\n",
        "    \"C\":\"C\",\"CA\":\"A\",\"A\":\"A\",\"N\":\"N\",\"NA\":\"NA\",\n",
        "    \"O\":\"O\",\"OA\":\"OA\",\"S\":\"S\",\"SA\":\"SA\",\"H\":\"H\",\"HD\":\"HD\",\n",
        "    \"P\":\"P\",\"F\":\"F\",\"CL\":\"Cl\",\"BR\":\"Br\",\"I\":\"I\",\n",
        "    \"ZN\":\"Zn\",\"CA\":\"Ca\",\"FE\":\"Fe\"\n",
        "}\n",
        "\n",
        "fixed = 0\n",
        "skipped = 0\n",
        "with open(in_path, \"r\") as fin, open(out_path, \"w\") as fout:\n",
        "    for raw in fin:\n",
        "        line = raw.rstrip(\"\\n\")\n",
        "        if not (line.startswith(\"ATOM\") or line.startswith(\"HETATM\")):\n",
        "            fout.write(line + \"\\n\")\n",
        "            continue\n",
        "\n",
        "\n",
        "        try:\n",
        "            record = line[0:6].strip() or \"ATOM\"\n",
        "            serial = int(line[6:11].strip()) if line[6:11].strip() else 0\n",
        "            name   = line[12:16].strip() or \"X\"\n",
        "            resname= line[17:20].strip() or \"MOL\"\n",
        "            chain  = line[21].strip() or \"A\"\n",
        "            resseq = int(line[22:26].strip()) if line[22:26].strip() else 1\n",
        "            x = safe_float(line[30:38].strip())\n",
        "            y = safe_float(line[38:46].strip())\n",
        "            z = safe_float(line[46:54].strip())\n",
        "            occ = safe_float(line[54:60].strip()) if line[54:60].strip() else 1.00\n",
        "            bfac= safe_float(line[60:66].strip()) if line[60:66].strip() else 0.00\n",
        "        except Exception:\n",
        "            # fallback token parsing\n",
        "            toks = line.split()\n",
        "            try:\n",
        "                # naive fallback positions\n",
        "                serial = int(toks[1])\n",
        "                name = toks[2]\n",
        "                resname = toks[3]\n",
        "                chain = toks[4] if len(toks)>4 else \"A\"\n",
        "                resseq = int(toks[5]) if len(toks)>5 else 1\n",
        "                x = safe_float(toks[6])\n",
        "                y = safe_float(toks[7])\n",
        "                z = safe_float(toks[8])\n",
        "                occ = safe_float(toks[9]) if len(toks)>9 else 1.00\n",
        "                bfac = safe_float(toks[10]) if len(toks)>10 else 0.00\n",
        "            except Exception:\n",
        "                fout.write(line + \"\\n\")\n",
        "                skipped += 1\n",
        "                continue\n",
        "\n",
        "\n",
        "        charge_val = 0.0\n",
        "        m_charge = re.search(r\"charge\\s*=\\s*([-+]?[0-9]*\\.?[0-9]+)\", line)\n",
        "        if m_charge:\n",
        "            charge_val = safe_float(m_charge.group(1))\n",
        "\n",
        "        atype = \"\"\n",
        "        m_type = re.search(r\"([A-Za-z]{1,3})\\s+charge\\s*=\", line)\n",
        "        if m_type:\n",
        "            atype = m_type.group(1)\n",
        "        else:\n",
        "            atype = line[76:78].strip()\n",
        "            if not atype:\n",
        "                parts = line.split()\n",
        "                if \"charge=\" in line:\n",
        "                    parts2 = [p for p in parts if \"charge=\" not in p]\n",
        "                    if parts2:\n",
        "                        atype = parts2[-1]\n",
        "                else:\n",
        "                    atype = name[0] if name else \"C\"\n",
        "\n",
        "        atype_up = atype.upper()\n",
        "        chosen = map_types.get(atype_up, None)\n",
        "        if chosen is None:\n",
        "\n",
        "            if atype_up and atype_up[0] in (\"C\",\"N\",\"O\",\"S\",\"H\",\"P\",\"F\",\"I\"):\n",
        "                chosen = atype_up[0]\n",
        "            else:\n",
        "                chosen = \"C\"\n",
        "        atype_final = chosen\n",
        "        atom_line = (\n",
        "            f\"{record:<6}\"\n",
        "            f\"{serial:5d} \"\n",
        "            f\"{name:<4}\"\n",
        "            f\"{resname:>3} \"\n",
        "            f\"{chain:1s}\"\n",
        "            f\"{resseq:4d}\"\n",
        "            f\"   \"\n",
        "            f\"{x:8.3f}{y:8.3f}{z:8.3f}\"\n",
        "            f\"{occ:6.2f}{bfac:6.2f}\"\n",
        "            f\"      \"\n",
        "            f\"{atype_final:>6s}\"\n",
        "            f\" charge={charge_val:8.4f}\"\n",
        "        )\n",
        "        fout.write(atom_line + \"\\n\")\n",
        "        fixed += 1\n",
        "\n",
        "print(f\"Done. Wrote {fixed} ATOM/HETATM lines to: {out_path}  (skipped {skipped} unparsed lines)\")\n",
        "\n",
        "\n"
      ],
      "metadata": {
        "colab": {
          "base_uri": "https://localhost:8080/"
        },
        "id": "jMMrNhBzE_A6",
        "outputId": "274b5e78-86c5-42b9-8385-fdfa7de570f3"
      },
      "execution_count": 115,
      "outputs": [
        {
          "output_type": "stream",
          "name": "stdout",
          "text": [
            "Done. Wrote 4673 ATOM/HETATM lines to: /content/HER2_receptor_vina_ready.pdbqt  (skipped 0 unparsed lines)\n"
          ]
        }
      ]
    },
    {
      "cell_type": "code",
      "source": [
        "!head -30 /content/HER2_receptor_vina_ready.pdbqt"
      ],
      "metadata": {
        "colab": {
          "base_uri": "https://localhost:8080/"
        },
        "id": "KpEwxWZXFf95",
        "outputId": "7705c4f0-0159-4437-f6f7-4243e2c80ed4"
      },
      "execution_count": 111,
      "outputs": [
        {
          "output_type": "stream",
          "name": "stdout",
          "text": [
            "REMARK  Gasteiger charges added by RDKit\n",
            "ATOM      1 N   MOL A   1    -15.684  18.524 -34.525  1.00  0.00           N charge= -0.3476\n",
            "END\n",
            "ATOM      2 H   MOL A   2    -14.485  18.573 -34.468  1.00  0.00           H charge=  0.3447\n",
            "END\n",
            "ATOM      3 H   MOL A   3    -15.929  19.647 -34.175  1.00  0.00           H charge=  0.3447\n",
            "END\n",
            "ATOM      4 H   MOL A   4    -15.892  18.558 -35.712  1.00  0.00           H charge=  0.3447\n",
            "END\n",
            "ATOM      5 C   MOL A   5    -16.360  17.398 -33.805  1.00  0.00           C charge=  0.1610\n",
            "END\n",
            "ATOM      6 H   MOL A   6    -16.498  17.732 -32.666  1.00  0.00           H charge=  0.1065\n",
            "END\n",
            "ATOM      7 C   MOL A   7    -15.700  16.074 -34.185  1.00  0.00           C charge=  0.2806\n",
            "END\n",
            "ATOM      8 O   MOL A   8    -15.766  15.667 -35.344  1.00  0.00           O charge= -0.2679\n",
            "END\n",
            "ATOM      9 C   MOL A   9    -17.834  17.383 -34.128  1.00  0.00           C charge= -0.0031\n",
            "END\n",
            "ATOM     10 H   MOL A  10    -18.141  17.134 -35.265  1.00  0.00           H charge=  0.0297\n",
            "END\n",
            "ATOM     11 H   MOL A  11    -18.517  18.345 -33.907  1.00  0.00           H charge=  0.0297\n",
            "END\n",
            "ATOM     12 H   MOL A  12    -18.444  16.553 -33.505  1.00  0.00           H charge=  0.0297\n",
            "END\n",
            "ATOM     13 N   MOL A  13    -15.039  15.367 -33.237  1.00  0.00           N charge= -0.3255\n",
            "END\n",
            "ATOM     14 C   MOL A  14    -14.457  14.055 -33.523  1.00  0.00           C charge=  0.1108\n",
            "END\n",
            "ATOM     15 H   MOL A  15    -13.633  14.303 -34.350  1.00  0.00           H charge=  0.0635\n"
          ]
        }
      ]
    },
    {
      "cell_type": "markdown",
      "source": [
        "Create configuration file for autodock vina"
      ],
      "metadata": {
        "id": "lfUc2-PNfZkY"
      }
    },
    {
      "cell_type": "code",
      "source": [
        "\n",
        "config_content = f\"\"\"\n",
        "receptor = /content/HER2_receptor_vina_ready.pdbqt\n",
        "ligand = /content/TUC_ligand.pdbqt\n",
        "\n",
        "center_x = {center_x}\n",
        "center_y = {center_y}\n",
        "center_z = {center_z}\n",
        "\n",
        "size_x = {size_x}\n",
        "size_y = {size_y}\n",
        "size_z = {size_z}\n",
        "\n",
        "exhaustiveness = 8\n",
        "num_modes = 9\n",
        "energy_range = 4\n",
        "out = /content/docked_output.pdbqt\n",
        "\n",
        "\"\"\"\n",
        "\n",
        "with open(\"config.txt\", \"w\") as f:\n",
        "  f.write(config_content)\n",
        "\n",
        "print(\" Config file created successfully:\")\n",
        "!cat config.txt"
      ],
      "metadata": {
        "colab": {
          "base_uri": "https://localhost:8080/"
        },
        "id": "nLKnjQ7OffuA",
        "outputId": "63e9e018-0849-41e8-e87e-3ec99f4df637"
      },
      "execution_count": 112,
      "outputs": [
        {
          "output_type": "stream",
          "name": "stdout",
          "text": [
            " Config file created successfully:\n",
            "\n",
            "receptor = /content/HER2_receptor_vina_ready.pdbqt\n",
            "ligand = /content/TUC_ligand.pdbqt\n",
            "\n",
            "center_x = -0.5\n",
            "center_y = 7\n",
            "center_z = -17\n",
            "\n",
            "size_x = 60\n",
            "size_y = 60\n",
            "size_z = 60\n",
            "\n",
            "exhaustiveness = 8\n",
            "num_modes = 9\n",
            "energy_range = 4\n",
            "out = /content/docked_output.pdbqt\n",
            "\n"
          ]
        }
      ]
    },
    {
      "cell_type": "markdown",
      "source": [
        "Run Docking using config file"
      ],
      "metadata": {
        "id": "Wje8z9DzgXvF"
      }
    },
    {
      "cell_type": "code",
      "source": [
        "!vina --config config.txt\n",
        "\n",
        "\n",
        "\n"
      ],
      "metadata": {
        "colab": {
          "base_uri": "https://localhost:8080/"
        },
        "id": "RZa14JV_gbLl",
        "outputId": "f5fa5abc-698a-4e61-90b9-3cf473a10658"
      },
      "execution_count": 113,
      "outputs": [
        {
          "output_type": "stream",
          "name": "stdout",
          "text": [
            "AutoDock Vina v1.2.3\n",
            "#################################################################\n",
            "# If you used AutoDock Vina in your work, please cite:          #\n",
            "#                                                               #\n",
            "# J. Eberhardt, D. Santos-Martins, A. F. Tillack, and S. Forli  #\n",
            "# AutoDock Vina 1.2.0: New Docking Methods, Expanded Force      #\n",
            "# Field, and Python Bindings, J. Chem. Inf. Model. (2021)       #\n",
            "# DOI 10.1021/acs.jcim.1c00203                                  #\n",
            "#                                                               #\n",
            "# O. Trott, A. J. Olson,                                        #\n",
            "# AutoDock Vina: improving the speed and accuracy of docking    #\n",
            "# with a new scoring function, efficient optimization and       #\n",
            "# multithreading, J. Comp. Chem. (2010)                         #\n",
            "# DOI 10.1002/jcc.21334                                         #\n",
            "#                                                               #\n",
            "# Please see https://github.com/ccsb-scripps/AutoDock-Vina for  #\n",
            "# more information.                                             #\n",
            "#################################################################\n",
            "\n",
            "Scoring function : vina\n",
            "Rigid receptor: /content/HER2_receptor_vina_ready.pdbqt\n",
            "Ligand: /content/TUC_ligand.pdbqt\n",
            "Grid center: X -0.5 Y 7 Z -17\n",
            "Grid size  : X 60 Y 60 Z 60\n",
            "Grid space : 0.375\n",
            "Exhaustiveness: 8\n",
            "CPU: 0\n",
            "Verbosity: 1\n",
            "\n",
            "\n",
            "\n",
            "PDBQT parsing error: Coordinate \"34.525  \" is not valid.\n",
            " > ATOM      1 N   MOL A   1    -15.684  18.524 -34.525  1.00  0.00           N charge= -0.3476\n",
            "\n"
          ]
        }
      ]
    },
    {
      "cell_type": "code",
      "source": [],
      "metadata": {
        "id": "Q4703tVP683r"
      },
      "execution_count": null,
      "outputs": []
    }
  ]
}